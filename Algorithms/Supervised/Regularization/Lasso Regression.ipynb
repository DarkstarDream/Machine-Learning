{
 "cells": [
  {
   "cell_type": "markdown",
   "id": "6e69170b-fa8b-447c-abc9-e5e78210ed6d",
   "metadata": {},
   "source": [
    "## Lasso Regression\n",
    "Just like Ridge regression, Lasso is also a regularization algorithm but it uses `L1 Regularization`. The lasso regression encourages simple, sparse models (i.e. models with fewer parameters). This particular type of regression is well-suited for models showing high levels of muticollinearity or when you want to automate certain parts of model selection, like variable selection/parameter elimination. The acronym “LASSO” stands for Least Absolute Shrinkage and Selection Operator.\n",
    "\n",
    "### L1 Regularization\n",
    "Lasso regression performs L1 regularization, which adds a penalty equal to the absolute value of the magnitude of coefficients. This type of regularization can result in sparse models with few coefficients; Some coefficients can become zero and eliminated from the model. Larger penalties result in coefficient values closer to zero, which is the ideal for producing simpler models. On the other hand, L2 regularization (e.g. Ridge regression) doesn’t result in elimination of coefficients or sparse models. This makes the Lasso far easier to interpret than the Ridge.\n",
    "\n",
    "### Lasso (L1 Regularization) modifies the loss function as \n",
    "> Sometime the `alpha (α)` is also denoted with `lambda (λ)`, so don't get confused with them they are same <br>\n",
    "<img src=\"https://user.oc-static.com/upload/2019/10/07/15704536640472_lasso.png\" width=\"500\">\n",
    "\n",
    "Here, A tuning parameter, λ controls the strength of the L1 penalty. λ is basically the amount of shrinkage:\n",
    "* When λ = 0, no parameters are eliminated. The estimate is equal to the one found with linear regression.\n",
    "* As λ increases, more and more coefficients are set to zero and eliminated (theoretically, when λ = ∞, all coefficients are eliminated).\n",
    "* As λ increases, bias increases.\n",
    "* As λ decreases, variance increases.\n",
    "\n",
    "\n",
    "### Terminologies\n",
    "* `Multi-collinearity` is a term referred to a situation, when two or more feature of a dataset is highly correlated with each other.\n",
    "* In machine learning, `Model complexity` often refers to the number of features or terms included in a given predictive model, as well as whether the chosen model is linear, nonlinear, and so on. It can also refer to the algorithmic learning complexity or computational complexity. When you increase complexity of your model, it is more likely to overfit, meaning it will adapt to training data very well, but will not figure out general relationships in the data. In such case, performance on a test set is going to be poor.\n",
    "> Underfitting vs Good fitting vs Overfitting <br>\n",
    "<img src=\"https://user.oc-static.com/upload/2019/09/12/15682951882177_biva-11.png\" width=\"600\">\n",
    "* `Sparse model` is a model with many zeroed parmater(features) and has a sparse parameter resulted from the operation of L1 or L2 regularization."
   ]
  },
  {
   "cell_type": "markdown",
   "id": "10022baf-c9c3-4aec-ab39-a43390871eb9",
   "metadata": {},
   "source": [
    "## Building Lasso Regression"
   ]
  },
  {
   "cell_type": "code",
   "execution_count": 1,
   "id": "ff6bce3b-0583-45f5-ac8f-2f61b1904cc1",
   "metadata": {},
   "outputs": [],
   "source": [
    "import numpy as np\n",
    "import pandas as pd\n",
    "from sklearn import metrics\n",
    "import matplotlib.pyplot as plt\n",
    "from sklearn.model_selection import KFold\n",
    "from sklearn.model_selection import train_test_split"
   ]
  },
  {
   "cell_type": "code",
   "execution_count": 2,
   "id": "46e09489-fc5a-4a10-af20-f446899cc0d1",
   "metadata": {},
   "outputs": [
    {
     "data": {
      "text/html": [
       "<div>\n",
       "<style scoped>\n",
       "    .dataframe tbody tr th:only-of-type {\n",
       "        vertical-align: middle;\n",
       "    }\n",
       "\n",
       "    .dataframe tbody tr th {\n",
       "        vertical-align: top;\n",
       "    }\n",
       "\n",
       "    .dataframe thead th {\n",
       "        text-align: right;\n",
       "    }\n",
       "</style>\n",
       "<table border=\"1\" class=\"dataframe\">\n",
       "  <thead>\n",
       "    <tr style=\"text-align: right;\">\n",
       "      <th></th>\n",
       "      <th>MS SubClass</th>\n",
       "      <th>Lot Frontage</th>\n",
       "      <th>Lot Area</th>\n",
       "      <th>Overall Qual</th>\n",
       "      <th>Overall Cond</th>\n",
       "      <th>Year Built</th>\n",
       "      <th>Year Remod/Add</th>\n",
       "      <th>Mas Vnr Area</th>\n",
       "      <th>BsmtFin SF 1</th>\n",
       "      <th>BsmtFin SF 2</th>\n",
       "      <th>...</th>\n",
       "      <th>Sale Type_Oth</th>\n",
       "      <th>Sale Type_VWD</th>\n",
       "      <th>Sale Type_WD</th>\n",
       "      <th>Sale Condition_Abnorml</th>\n",
       "      <th>Sale Condition_AdjLand</th>\n",
       "      <th>Sale Condition_Alloca</th>\n",
       "      <th>Sale Condition_Family</th>\n",
       "      <th>Sale Condition_Normal</th>\n",
       "      <th>Sale Condition_Partial</th>\n",
       "      <th>SalesPrice</th>\n",
       "    </tr>\n",
       "  </thead>\n",
       "  <tbody>\n",
       "    <tr>\n",
       "      <th>0</th>\n",
       "      <td>20</td>\n",
       "      <td>141.0</td>\n",
       "      <td>31770</td>\n",
       "      <td>6</td>\n",
       "      <td>5</td>\n",
       "      <td>1960</td>\n",
       "      <td>1960</td>\n",
       "      <td>112.0</td>\n",
       "      <td>639.0</td>\n",
       "      <td>0.0</td>\n",
       "      <td>...</td>\n",
       "      <td>0</td>\n",
       "      <td>0</td>\n",
       "      <td>1</td>\n",
       "      <td>0</td>\n",
       "      <td>0</td>\n",
       "      <td>0</td>\n",
       "      <td>0</td>\n",
       "      <td>1</td>\n",
       "      <td>0</td>\n",
       "      <td>215000</td>\n",
       "    </tr>\n",
       "    <tr>\n",
       "      <th>1</th>\n",
       "      <td>20</td>\n",
       "      <td>80.0</td>\n",
       "      <td>11622</td>\n",
       "      <td>5</td>\n",
       "      <td>6</td>\n",
       "      <td>1961</td>\n",
       "      <td>1961</td>\n",
       "      <td>0.0</td>\n",
       "      <td>468.0</td>\n",
       "      <td>144.0</td>\n",
       "      <td>...</td>\n",
       "      <td>0</td>\n",
       "      <td>0</td>\n",
       "      <td>1</td>\n",
       "      <td>0</td>\n",
       "      <td>0</td>\n",
       "      <td>0</td>\n",
       "      <td>0</td>\n",
       "      <td>1</td>\n",
       "      <td>0</td>\n",
       "      <td>105000</td>\n",
       "    </tr>\n",
       "    <tr>\n",
       "      <th>2</th>\n",
       "      <td>20</td>\n",
       "      <td>81.0</td>\n",
       "      <td>14267</td>\n",
       "      <td>6</td>\n",
       "      <td>6</td>\n",
       "      <td>1958</td>\n",
       "      <td>1958</td>\n",
       "      <td>108.0</td>\n",
       "      <td>923.0</td>\n",
       "      <td>0.0</td>\n",
       "      <td>...</td>\n",
       "      <td>0</td>\n",
       "      <td>0</td>\n",
       "      <td>1</td>\n",
       "      <td>0</td>\n",
       "      <td>0</td>\n",
       "      <td>0</td>\n",
       "      <td>0</td>\n",
       "      <td>1</td>\n",
       "      <td>0</td>\n",
       "      <td>172000</td>\n",
       "    </tr>\n",
       "    <tr>\n",
       "      <th>3</th>\n",
       "      <td>20</td>\n",
       "      <td>93.0</td>\n",
       "      <td>11160</td>\n",
       "      <td>7</td>\n",
       "      <td>5</td>\n",
       "      <td>1968</td>\n",
       "      <td>1968</td>\n",
       "      <td>0.0</td>\n",
       "      <td>1065.0</td>\n",
       "      <td>0.0</td>\n",
       "      <td>...</td>\n",
       "      <td>0</td>\n",
       "      <td>0</td>\n",
       "      <td>1</td>\n",
       "      <td>0</td>\n",
       "      <td>0</td>\n",
       "      <td>0</td>\n",
       "      <td>0</td>\n",
       "      <td>1</td>\n",
       "      <td>0</td>\n",
       "      <td>244000</td>\n",
       "    </tr>\n",
       "    <tr>\n",
       "      <th>4</th>\n",
       "      <td>60</td>\n",
       "      <td>74.0</td>\n",
       "      <td>13830</td>\n",
       "      <td>5</td>\n",
       "      <td>5</td>\n",
       "      <td>1997</td>\n",
       "      <td>1998</td>\n",
       "      <td>0.0</td>\n",
       "      <td>791.0</td>\n",
       "      <td>0.0</td>\n",
       "      <td>...</td>\n",
       "      <td>0</td>\n",
       "      <td>0</td>\n",
       "      <td>1</td>\n",
       "      <td>0</td>\n",
       "      <td>0</td>\n",
       "      <td>0</td>\n",
       "      <td>0</td>\n",
       "      <td>1</td>\n",
       "      <td>0</td>\n",
       "      <td>189900</td>\n",
       "    </tr>\n",
       "  </tbody>\n",
       "</table>\n",
       "<p>5 rows × 305 columns</p>\n",
       "</div>"
      ],
      "text/plain": [
       "   MS SubClass  Lot Frontage  Lot Area  Overall Qual  Overall Cond  \\\n",
       "0           20         141.0     31770             6             5   \n",
       "1           20          80.0     11622             5             6   \n",
       "2           20          81.0     14267             6             6   \n",
       "3           20          93.0     11160             7             5   \n",
       "4           60          74.0     13830             5             5   \n",
       "\n",
       "   Year Built  Year Remod/Add  Mas Vnr Area  BsmtFin SF 1  BsmtFin SF 2  ...  \\\n",
       "0        1960            1960         112.0         639.0           0.0  ...   \n",
       "1        1961            1961           0.0         468.0         144.0  ...   \n",
       "2        1958            1958         108.0         923.0           0.0  ...   \n",
       "3        1968            1968           0.0        1065.0           0.0  ...   \n",
       "4        1997            1998           0.0         791.0           0.0  ...   \n",
       "\n",
       "   Sale Type_Oth  Sale Type_VWD  Sale Type_WD   Sale Condition_Abnorml  \\\n",
       "0              0              0              1                       0   \n",
       "1              0              0              1                       0   \n",
       "2              0              0              1                       0   \n",
       "3              0              0              1                       0   \n",
       "4              0              0              1                       0   \n",
       "\n",
       "   Sale Condition_AdjLand  Sale Condition_Alloca  Sale Condition_Family  \\\n",
       "0                       0                      0                      0   \n",
       "1                       0                      0                      0   \n",
       "2                       0                      0                      0   \n",
       "3                       0                      0                      0   \n",
       "4                       0                      0                      0   \n",
       "\n",
       "   Sale Condition_Normal  Sale Condition_Partial  SalesPrice  \n",
       "0                      1                       0      215000  \n",
       "1                      1                       0      105000  \n",
       "2                      1                       0      172000  \n",
       "3                      1                       0      244000  \n",
       "4                      1                       0      189900  \n",
       "\n",
       "[5 rows x 305 columns]"
      ]
     },
     "execution_count": 2,
     "metadata": {},
     "output_type": "execute_result"
    }
   ],
   "source": [
    "# from sklearn.datasets import load_boston\n",
    "# boston = load_boston()\n",
    "# df = pd.DataFrame(boston.data, columns=boston.feature_names)\n",
    "# df['target'] = boston.target\n",
    "df = pd.read_csv('house_prices.csv')\n",
    "df.head()"
   ]
  },
  {
   "cell_type": "code",
   "execution_count": 3,
   "id": "d782a770-839b-48f7-8464-b312a53f056f",
   "metadata": {},
   "outputs": [
    {
     "name": "stdout",
     "output_type": "stream",
     "text": [
      "(2930, 304) (2930,)\n"
     ]
    }
   ],
   "source": [
    "features = df.iloc[:, :-1]\n",
    "label = df.iloc[:, -1]\n",
    "print(features.shape, label.shape)"
   ]
  },
  {
   "cell_type": "code",
   "execution_count": 4,
   "id": "0664723a-c6ef-4e74-a9d0-1ed6652e95b2",
   "metadata": {},
   "outputs": [],
   "source": [
    "from sklearn.preprocessing import MinMaxScaler, StandardScaler\n",
    "features_scaled = MinMaxScaler().fit_transform(features)"
   ]
  },
  {
   "cell_type": "code",
   "execution_count": 5,
   "id": "5618a13a-dc1f-4421-ab39-45a2e40ad6dd",
   "metadata": {},
   "outputs": [
    {
     "name": "stdout",
     "output_type": "stream",
     "text": [
      "x_train (2344, 304) x_test (586, 304) y_train (2344,) y_test (586,)\n"
     ]
    }
   ],
   "source": [
    "x_train, x_test, y_train, y_test = train_test_split(features_scaled, label, test_size=0.2, random_state=31)\n",
    "print('x_train',x_train.shape, 'x_test',x_test.shape, 'y_train',y_train.shape, 'y_test', y_test.shape)"
   ]
  },
  {
   "cell_type": "markdown",
   "id": "880ffe88-279a-4795-ae4c-ebe9a12b171a",
   "metadata": {},
   "source": [
    "## Linear Regression"
   ]
  },
  {
   "cell_type": "code",
   "execution_count": 6,
   "id": "25619ee0-2ea1-4902-8c0e-e33ee5f2bc10",
   "metadata": {},
   "outputs": [],
   "source": [
    "from sklearn.linear_model import LinearRegression"
   ]
  },
  {
   "cell_type": "code",
   "execution_count": 7,
   "id": "100f9942-9602-4d36-9f02-39394f4dcc06",
   "metadata": {},
   "outputs": [
    {
     "name": "stdout",
     "output_type": "stream",
     "text": [
      "-3.1351239397758332e+16\n"
     ]
    }
   ],
   "source": [
    "lmodel = LinearRegression().fit(x_train, y_train)\n",
    "y_pred = lmodel.predict(x_test)\n",
    "\n",
    "# Accuracy of the model\n",
    "print(metrics.r2_score(y_test, y_pred))"
   ]
  },
  {
   "cell_type": "code",
   "execution_count": 8,
   "id": "fbd11956-73e0-442d-8f05-05f385eca662",
   "metadata": {},
   "outputs": [
    {
     "name": "stdout",
     "output_type": "stream",
     "text": [
      "-3.1351239397758332e+16\n",
      "0.9347017960202054\n",
      "-3.1351239397758332e+16\n"
     ]
    }
   ],
   "source": [
    "print(metrics.r2_score(y_test, y_pred))\n",
    "print(lmodel.score(x_train, y_train))\n",
    "print(lmodel.score(x_test, y_test))"
   ]
  },
  {
   "cell_type": "markdown",
   "id": "b7a11795-46a5-46cd-b5d8-dcad7f465ff6",
   "metadata": {},
   "source": [
    "From the above metrics we can clearly see that out model is overfitted"
   ]
  },
  {
   "cell_type": "markdown",
   "id": "1fb31dc2-1d2f-499c-bc82-9b296a864b98",
   "metadata": {},
   "source": [
    "### Linear regression with cross validation\n",
    "To find the best value of Linear Regression, we need to utilize the whole dataset and find the best sample with higher accuracy for that we can use cross validation"
   ]
  },
  {
   "cell_type": "code",
   "execution_count": 9,
   "id": "791c6cec-d1c4-49a7-a536-d68c2902b5ae",
   "metadata": {},
   "outputs": [
    {
     "data": {
      "text/plain": [
       "array([-1.51396960e+20, -4.42046903e+19, -1.31796110e+17, -2.62812729e+20,\n",
       "       -1.99474402e+19])"
      ]
     },
     "execution_count": 9,
     "metadata": {},
     "output_type": "execute_result"
    }
   ],
   "source": [
    "from sklearn.model_selection import cross_val_score\n",
    "cross_val_score(LinearRegression(), x_train, y_train, cv=5, scoring='r2')"
   ]
  },
  {
   "cell_type": "markdown",
   "id": "0d4074e3-c3d6-4f89-9163-4b7702f40368",
   "metadata": {},
   "source": [
    "So, these are the best score we are able to get from linear Regression"
   ]
  },
  {
   "cell_type": "markdown",
   "id": "a17a1b7d-65fe-49d1-be11-cc2c5826ec5c",
   "metadata": {},
   "source": [
    "## Lasso Regression"
   ]
  },
  {
   "cell_type": "code",
   "execution_count": 10,
   "id": "3057d405-2f8d-4086-ba98-e3085e13770d",
   "metadata": {},
   "outputs": [],
   "source": [
    "from sklearn.linear_model import Lasso"
   ]
  },
  {
   "cell_type": "code",
   "execution_count": 11,
   "id": "c5841859-9393-4ecd-9905-269184547ad6",
   "metadata": {},
   "outputs": [
    {
     "name": "stdout",
     "output_type": "stream",
     "text": [
      "0.9212986569497557\n"
     ]
    }
   ],
   "source": [
    "lsmodel = Lasso(alpha=10).fit(x_train, y_train)\n",
    "y_pred = lsmodel.predict(x_test)\n",
    "\n",
    "# Accuracy of the model\n",
    "print(metrics.r2_score(y_test, y_pred))"
   ]
  },
  {
   "cell_type": "code",
   "execution_count": 12,
   "id": "991d2548-adb9-4c16-bcb2-68664fed4ea5",
   "metadata": {},
   "outputs": [
    {
     "name": "stdout",
     "output_type": "stream",
     "text": [
      "0.9328604709671917\n",
      "0.9212986569497557\n"
     ]
    }
   ],
   "source": [
    "print(lsmodel.score(x_train, y_train))\n",
    "print(lsmodel.score(x_test, y_test))"
   ]
  },
  {
   "cell_type": "markdown",
   "id": "514e19a2-ee0a-4f49-9b72-b3de8f24d126",
   "metadata": {},
   "source": [
    "From the above metrics we can see that how lasso regression improved the performance of our model"
   ]
  },
  {
   "cell_type": "markdown",
   "id": "2922202b-d5ef-43c0-8746-6263bc756b82",
   "metadata": {},
   "source": [
    "### Lasso Regression with cross validation\n",
    "To find the best value of alpha or λ we can use LassoCV function, which uses cross validation to find the best value of λ."
   ]
  },
  {
   "cell_type": "code",
   "execution_count": 13,
   "id": "3382e685-4c02-4d4d-8a7e-022dc8cf709f",
   "metadata": {},
   "outputs": [
    {
     "name": "stdout",
     "output_type": "stream",
     "text": [
      "Score 0.917601834831105\n",
      "Values of Alpha(aka λ) 93.56315655078515\n"
     ]
    }
   ],
   "source": [
    "from sklearn.linear_model import LassoCV\n",
    "# from sklearn.model_selection import KFold\n",
    "# kfold = KFold(n_splits=5, shuffle=True, random_state=17)\n",
    "models = LassoCV()\n",
    "models.fit(x_train, y_train)\n",
    "y_pred = models.predict(x_test)\n",
    "print('Score', metrics.r2_score(y_test, y_pred))\n",
    "print('Values of Alpha(aka λ)', models.alpha_)"
   ]
  },
  {
   "cell_type": "code",
   "execution_count": 14,
   "id": "6927903b-54a9-4e7c-9fac-a0ce2919a9c3",
   "metadata": {},
   "outputs": [
    {
     "name": "stdout",
     "output_type": "stream",
     "text": [
      "0\n",
      "91\n"
     ]
    }
   ],
   "source": [
    "print(sum(sorted(lmodel.coef_ == 0)))\n",
    "print(sum(sorted(lsmodel.coef_ == 0)))"
   ]
  },
  {
   "cell_type": "markdown",
   "id": "e98a3758-8695-4169-8139-97fdd05bb602",
   "metadata": {},
   "source": [
    "So in total Lasso Regresson eliminated 91 columns, which it thinks dosen't contribute in predicting price of a house"
   ]
  }
 ],
 "metadata": {
  "kernelspec": {
   "display_name": "Python 3",
   "language": "python",
   "name": "python3"
  },
  "language_info": {
   "codemirror_mode": {
    "name": "ipython",
    "version": 3
   },
   "file_extension": ".py",
   "mimetype": "text/x-python",
   "name": "python",
   "nbconvert_exporter": "python",
   "pygments_lexer": "ipython3",
   "version": "3.8.8"
  }
 },
 "nbformat": 4,
 "nbformat_minor": 5
}
