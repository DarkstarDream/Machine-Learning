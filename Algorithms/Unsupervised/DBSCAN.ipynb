{
 "cells": [
  {
   "cell_type": "markdown",
   "id": "263f564b-404d-4939-992e-7c1304684792",
   "metadata": {},
   "source": [
    "## DBSCAN\n",
    "DBSCAN which stands for `Density Based Spatial Clustering of Application with Noise` is a unsupervised machine learning algorithm. It is used for clustering problems. It works on the assumption that clusters are dense regions in space separated by regions of lower density. It groups ‘densely grouped’ data points into a single cluster. It can identify clusters in large spatial datasets by looking at the local density of the data points. The most exciting feature of DBSCAN clustering is that **it is robust to outliers**. It also does not require the number of clusters to be told beforehand, unlike K-Means, where we have to specify the number of centroids.\n",
    "\n",
    "#### DBSCAN vs other clustering algorithm\n",
    "> <img src=\"https://cdn.analyticsvidhya.com/wp-content/uploads/2020/03/db7-1.png\" width=\"600\" height=\"400\">\n",
    "> <img src=\"https://cdn.analyticsvidhya.com/wp-content/uploads/2020/03/db6-e1584577503359.png\" width=\"300\" height=\"200\">\n",
    "\n",
    "### How DBSCAN works?\n",
    "DBSCAN mainly has two parameter `Epsilon` and `Minpoints`, epsilon is referred as the value of radius of a circle and minpoints is termed for minimum number of points. So what are these values and why we need it? Actually the way DBCAN create clusters is by visiting every single points and draw a circle of the radius value of `epsilon` and in that circle if it found atleast `minpoints` (value of minpoints), it assign it as the `Core Point`. And if a particular formed circle doesn't have the total n minpoints then DBSCAN tries to identify that if that particular points falls in any circle of core points or i.e, if it a neighbour of any core point. If it is identified as the neighbour of any core point then it is assigned as `Border Points` or else it is assigned as `Noise Points` which is nothing but the outliers. Also if a point `q` is a neighbour of point `p` and point `p` is a core point then point `q` is termed as `Direct density reachable` to point `p`.\n",
    "> <img src=\"https://machinelearninggeek.com/wp-content/uploads/2020/10/image-58.png\" width=\"600\" height=\"400\">\n",
    "\n",
    "### How Clusters are formed?\n",
    "So how a cluster is formed? Initally all points are unvisited by DBSCAN so it visits them one by one and tries to find if it a core point or not, if it is, then it marked it as visited and forms a cluster. If the point is identified as noise points then it is marked as unvisited. And similary it visits other points and if other points say `A` is core point and are neighbour of core point `B` then both are put in same cluster `P` also the boundary points of both core points are dumped in same cluster. One by one it visits all points and put in different cluster and filter out the And this way it creates different cluster.\n",
    "**In below gif we can see DBSCAN in action**\n",
    "> <img src=\"https://miro.medium.com/proxy/1*tc8UF-h0nQqUfLC8-0uInQ.gif\" width=\"600\" height=\"400\">\n",
    "\n",
    "#### How to choose parameter value?\n",
    "**Epsilon**: if the eps value chosen is too small, a large part of the data will not be clustered. It will be considered outliers because don’t satisfy the number of points to create a dense region. On the other hand, if the value that was chosen is too high, clusters will merge and the majority of objects will be in the same cluster. The eps should be chosen based on the distance of the dataset (we can use a k-distance graph to find it), but in general small eps values are preferable.\n",
    "\n",
    "**minPoints**: As a general rule, a minimum minPoints can be derived from a number of dimensions (D) in the data set, as minPoints ≥ D + 1. Larger values are usually better for data sets with noise and will form more significant clusters. The minimum value for the minPoints must be 3, but the larger the data set, the larger the minPoints value that should be chosen.\n",
    "\n",
    "#### Advantages of DBSCAN:\n",
    "*  Is great at separating clusters of high density versus clusters of low density within\n",
    "a given dataset.\n",
    "* Does not require to specify number of clusters beforehand.\n",
    "* Performs well with arbitrary shapes clusters.\n",
    "* DBSCAN is robust to outliers and able to detect the outliers.\n",
    "\n",
    "#### Disadvantages of DBSCAN:\n",
    "*  Does not work well when dealing with clusters of varying densities. While\n",
    "DBSCAN is great at separating high density clusters from low density clusters,\n",
    "DBSCAN struggles with clusters of similar density.\n",
    "* Struggles with high dimensionality data. I know, this entire article I have stated\n",
    "how DBSCAN is great at contorting the data into different dimensions and shapes.\n",
    "However, DBSCAN can only go so far, if given data with too many dimensions,\n",
    "DBSCAN suffers\n"
   ]
  },
  {
   "cell_type": "markdown",
   "id": "de8f6978-7e6e-48a7-ba9b-70d7c34ed3bb",
   "metadata": {},
   "source": [
    "## Building DBSCAN"
   ]
  },
  {
   "cell_type": "code",
   "execution_count": 1,
   "id": "b8f1d2d7-98eb-48b0-b2b2-e8a11d579a69",
   "metadata": {},
   "outputs": [],
   "source": [
    "# importing requirement\n",
    "import pandas as pd # <-- for handling dataset\n",
    "from sklearn.cluster import DBSCAN # <-- for creating DBSCAN model\n",
    "from sklearn.metrics import silhouette_score # <-- for measuring model performance\n",
    "import seaborn as sns # <-- for visualization\n",
    "import matplotlib.pyplot as plt # <-- for visualization"
   ]
  },
  {
   "cell_type": "code",
   "execution_count": 2,
   "id": "d497db8e-9e80-4d27-b703-f5fccfb2ee0f",
   "metadata": {},
   "outputs": [
    {
     "data": {
      "text/html": [
       "<div>\n",
       "<style scoped>\n",
       "    .dataframe tbody tr th:only-of-type {\n",
       "        vertical-align: middle;\n",
       "    }\n",
       "\n",
       "    .dataframe tbody tr th {\n",
       "        vertical-align: top;\n",
       "    }\n",
       "\n",
       "    .dataframe thead th {\n",
       "        text-align: right;\n",
       "    }\n",
       "</style>\n",
       "<table border=\"1\" class=\"dataframe\">\n",
       "  <thead>\n",
       "    <tr style=\"text-align: right;\">\n",
       "      <th></th>\n",
       "      <th>CustomerID</th>\n",
       "      <th>Genre</th>\n",
       "      <th>Age</th>\n",
       "      <th>Annual Income (k$)</th>\n",
       "      <th>Spending Score (1-100)</th>\n",
       "    </tr>\n",
       "  </thead>\n",
       "  <tbody>\n",
       "    <tr>\n",
       "      <th>96</th>\n",
       "      <td>97</td>\n",
       "      <td>Female</td>\n",
       "      <td>47</td>\n",
       "      <td>60</td>\n",
       "      <td>47</td>\n",
       "    </tr>\n",
       "    <tr>\n",
       "      <th>63</th>\n",
       "      <td>64</td>\n",
       "      <td>Female</td>\n",
       "      <td>54</td>\n",
       "      <td>47</td>\n",
       "      <td>59</td>\n",
       "    </tr>\n",
       "    <tr>\n",
       "      <th>168</th>\n",
       "      <td>169</td>\n",
       "      <td>Female</td>\n",
       "      <td>36</td>\n",
       "      <td>87</td>\n",
       "      <td>27</td>\n",
       "    </tr>\n",
       "    <tr>\n",
       "      <th>196</th>\n",
       "      <td>197</td>\n",
       "      <td>Female</td>\n",
       "      <td>45</td>\n",
       "      <td>126</td>\n",
       "      <td>28</td>\n",
       "    </tr>\n",
       "    <tr>\n",
       "      <th>68</th>\n",
       "      <td>69</td>\n",
       "      <td>Male</td>\n",
       "      <td>19</td>\n",
       "      <td>48</td>\n",
       "      <td>59</td>\n",
       "    </tr>\n",
       "    <tr>\n",
       "      <th>9</th>\n",
       "      <td>10</td>\n",
       "      <td>Female</td>\n",
       "      <td>30</td>\n",
       "      <td>19</td>\n",
       "      <td>72</td>\n",
       "    </tr>\n",
       "    <tr>\n",
       "      <th>152</th>\n",
       "      <td>153</td>\n",
       "      <td>Female</td>\n",
       "      <td>44</td>\n",
       "      <td>78</td>\n",
       "      <td>20</td>\n",
       "    </tr>\n",
       "    <tr>\n",
       "      <th>91</th>\n",
       "      <td>92</td>\n",
       "      <td>Male</td>\n",
       "      <td>18</td>\n",
       "      <td>59</td>\n",
       "      <td>41</td>\n",
       "    </tr>\n",
       "    <tr>\n",
       "      <th>51</th>\n",
       "      <td>52</td>\n",
       "      <td>Male</td>\n",
       "      <td>33</td>\n",
       "      <td>42</td>\n",
       "      <td>60</td>\n",
       "    </tr>\n",
       "    <tr>\n",
       "      <th>172</th>\n",
       "      <td>173</td>\n",
       "      <td>Male</td>\n",
       "      <td>36</td>\n",
       "      <td>87</td>\n",
       "      <td>10</td>\n",
       "    </tr>\n",
       "  </tbody>\n",
       "</table>\n",
       "</div>"
      ],
      "text/plain": [
       "     CustomerID   Genre  Age  Annual Income (k$)  Spending Score (1-100)\n",
       "96           97  Female   47                  60                      47\n",
       "63           64  Female   54                  47                      59\n",
       "168         169  Female   36                  87                      27\n",
       "196         197  Female   45                 126                      28\n",
       "68           69    Male   19                  48                      59\n",
       "9            10  Female   30                  19                      72\n",
       "152         153  Female   44                  78                      20\n",
       "91           92    Male   18                  59                      41\n",
       "51           52    Male   33                  42                      60\n",
       "172         173    Male   36                  87                      10"
      ]
     },
     "execution_count": 2,
     "metadata": {},
     "output_type": "execute_result"
    }
   ],
   "source": [
    "df = pd.read_csv(\"Mall_Customers.csv\")\n",
    "df.sample(10, random_state=41)"
   ]
  },
  {
   "cell_type": "code",
   "execution_count": 3,
   "id": "9dc19bbc-f37a-439c-965e-5588526e8d30",
   "metadata": {},
   "outputs": [],
   "source": [
    "# separating features and label\n",
    "features = df.iloc[:, [3, 4]]"
   ]
  },
  {
   "cell_type": "code",
   "execution_count": 4,
   "id": "22ab2646-1af8-44d9-9bab-e65109f13589",
   "metadata": {},
   "outputs": [
    {
     "data": {
      "text/plain": [
       "DBSCAN(eps=5)"
      ]
     },
     "execution_count": 4,
     "metadata": {},
     "output_type": "execute_result"
    }
   ],
   "source": [
    "# building our model\n",
    "model = DBSCAN(eps=5, min_samples=5)\n",
    "model.fit(features)"
   ]
  },
  {
   "cell_type": "code",
   "execution_count": 5,
   "id": "5dea2db2-746d-4388-9a40-52f5031f7212",
   "metadata": {},
   "outputs": [],
   "source": [
    "# let's test our model on test data\n",
    "cluster = model.labels_"
   ]
  },
  {
   "cell_type": "code",
   "execution_count": 6,
   "id": "fe0bac51-2f7f-4907-bd69-4b13d2030a20",
   "metadata": {},
   "outputs": [
    {
     "name": "stdout",
     "output_type": "stream",
     "text": [
      "[-1  0 -1  0 -1  0 -1 -1 -1  0 -1 -1 -1  0 -1  0 -1 -1 -1 -1 -1 -1 -1 -1\n",
      " -1 -1 -1 -1 -1 -1 -1 -1 -1 -1 -1 -1 -1 -1 -1 -1 -1 -1 -1  1 -1 -1  1  1\n",
      "  1  1  1  1  1  1  1  1  1  1  1  1  1  1  1  1  1  1  1  1  1  1  1  1\n",
      "  1  1  1  1  1  1  1  1  1  1  1  1  1  1  1  1  1  1  1  1  1  1  1  1\n",
      "  1  1  1  1  1  1  1  1  1  1  1  1  1  1  1  1  1  1  1  1  1  1  1  1\n",
      "  1  1  1 -1 -1  2 -1  4  3  2  3  2 -1  2  3  4  3  2  3  2  3  4 -1  4\n",
      "  3  4 -1  2 -1  4 -1  4 -1  2 -1  4  3  2  3  2 -1  4 -1  4 -1 -1 -1 -1\n",
      " -1 -1 -1 -1 -1 -1 -1 -1 -1 -1 -1 -1 -1 -1 -1 -1 -1 -1 -1 -1 -1 -1 -1 -1\n",
      " -1 -1 -1 -1 -1 -1 -1 -1]\n"
     ]
    }
   ],
   "source": [
    "print(cluster)"
   ]
  },
  {
   "cell_type": "code",
   "execution_count": 7,
   "id": "f1f3b645-f2ef-4031-b339-1b2f03b4d8d2",
   "metadata": {},
   "outputs": [
    {
     "data": {
      "text/plain": [
       "array([  3,   5,  47,  48,  49,  50,  52,  53,  54,  56,  57,  58,  59,\n",
       "        60,  61,  62,  63,  64,  65,  66,  67,  68,  69,  70,  72,  73,\n",
       "        74,  75,  76,  77,  78,  79,  80,  81,  82,  83,  84,  85,  86,\n",
       "        87,  89,  90,  91,  92,  93,  94,  95,  96,  97,  98,  99, 100,\n",
       "       101, 102, 103, 104, 105, 106, 107, 108, 109, 110, 111, 112, 113,\n",
       "       114, 115, 116, 117, 118, 119, 120, 121, 129, 130, 131, 133, 136,\n",
       "       137, 138, 139, 140, 141, 143, 147, 149, 151, 155, 159], dtype=int64)"
      ]
     },
     "execution_count": 7,
     "metadata": {},
     "output_type": "execute_result"
    }
   ],
   "source": [
    "model.core_sample_indices_"
   ]
  },
  {
   "cell_type": "code",
   "execution_count": 8,
   "id": "25bd3ca9-1d9f-4afa-996c-8fcee43e043b",
   "metadata": {},
   "outputs": [
    {
     "name": "stdout",
     "output_type": "stream",
     "text": [
      "89\n"
     ]
    }
   ],
   "source": [
    "#Identifying which points make up our “core points”\n",
    "import numpy as np\n",
    "core_samples = np.zeros_like(cluster, dtype=bool)\n",
    "core_samples[model.core_sample_indices_] = True\n",
    "print(sum(core_samples))"
   ]
  },
  {
   "cell_type": "markdown",
   "id": "66d967ba-b9fc-4c03-bab8-283e94ee4a3c",
   "metadata": {},
   "source": [
    "our datasets have total of 89 core points"
   ]
  },
  {
   "cell_type": "code",
   "execution_count": 12,
   "id": "a1e8c256-dce6-4763-a1c9-14090696d4da",
   "metadata": {},
   "outputs": [
    {
     "data": {
      "text/plain": [
       "array([-1,  0,  1,  2,  4,  3], dtype=int64)"
      ]
     },
     "execution_count": 12,
     "metadata": {},
     "output_type": "execute_result"
    }
   ],
   "source": [
    "df['class'] = cluster\n",
    "df['class'].unique()"
   ]
  },
  {
   "cell_type": "markdown",
   "id": "5c066a60-e485-4449-a4a5-30e60748d136",
   "metadata": {},
   "source": [
    "-1 represents outliers and rest are clusters so we have total of 5 clusters"
   ]
  },
  {
   "cell_type": "code",
   "execution_count": 13,
   "id": "3e185a18-d123-49d4-9598-b416ce37565b",
   "metadata": {},
   "outputs": [
    {
     "data": {
      "image/png": "[encoded data removed]",
      "text/plain": [
       "<Figure size 1008x720 with 1 Axes>"
      ]
     },
     "metadata": {
      "needs_background": "light"
     },
     "output_type": "display_data"
    }
   ],
   "source": [
    "c = ['red', 'blue', 'green', 'purple', 'maroon', 'skyblue']\n",
    "plt.figure(figsize=(14, 10))\n",
    "sns.scatterplot(x=df['Annual Income (k$)'], y=df['Spending Score (1-100)'], hue=df['class'], s=80, palette=c)\n",
    "plt.legend()\n",
    "plt.show()"
   ]
  },
  {
   "cell_type": "markdown",
   "id": "4c62f255-ad23-429d-92ba-6d995d0739ff",
   "metadata": {},
   "source": [
    "It clustered most of the data points as noise, the only class which is clustered well is class `1` and rest are awful. I guess `KMeans` which we done earlier is best for it. This doesn't mean DBSCAN is not good, it is great but it doesn't works well with every dataset. "
   ]
  },
  {
   "cell_type": "code",
   "execution_count": 14,
   "id": "26f1c295-44e3-483a-99f9-aae58b7fb4b1",
   "metadata": {},
   "outputs": [
    {
     "data": {
      "text/plain": [
       "0.1135163893571667"
      ]
     },
     "execution_count": 14,
     "metadata": {},
     "output_type": "execute_result"
    }
   ],
   "source": [
    "# let's check the model score with silhouette_score\n",
    "silhouette_score(features, cluster)"
   ]
  },
  {
   "cell_type": "markdown",
   "id": "03b9b5fe-aad8-46e4-b68d-20a4e3cc0083",
   "metadata": {},
   "source": [
    "The value of silhouette_score ranges from -1 to 1 and we got `0.1135163893571667`, which is definitely not a good score."
   ]
  }
 ],
 "metadata": {
  "kernelspec": {
   "display_name": "Python 3",
   "language": "python",
   "name": "python3"
  },
  "language_info": {
   "codemirror_mode": {
    "name": "ipython",
    "version": 3
   },
   "file_extension": ".py",
   "mimetype": "text/x-python",
   "name": "python",
   "nbconvert_exporter": "python",
   "pygments_lexer": "ipython3",
   "version": "3.8.8"
  }
 },
 "nbformat": 4,
 "nbformat_minor": 5
}
